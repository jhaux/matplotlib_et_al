{
 "cells": [
  {
   "cell_type": "markdown",
   "metadata": {
    "slideshow": {
     "slide_type": "slide"
    }
   },
   "source": [
    "# Neccesary packages\n",
    "## Get the current matplotlib and numpy version"
   ]
  },
  {
   "cell_type": "code",
   "execution_count": 1,
   "metadata": {
    "collapsed": false
   },
   "outputs": [
    {
     "data": {
      "text/plain": [
       "'2.0.2'"
      ]
     },
     "execution_count": 1,
     "metadata": {},
     "output_type": "execute_result"
    }
   ],
   "source": [
    "import matplotlib as mpl\n",
    "mpl.__version__"
   ]
  },
  {
   "cell_type": "markdown",
   "metadata": {},
   "source": [
    "If the output above show a number below `2.x`, e.g. `1.5.6`, copy the line from the cell below into a shell and upgrade your matplotlib version."
   ]
  },
  {
   "cell_type": "raw",
   "metadata": {},
   "source": [
    "sudo pip install --upgrade matplotlib"
   ]
  },
  {
   "cell_type": "markdown",
   "metadata": {},
   "source": [
    "And if you do not have it, also get numpy:"
   ]
  },
  {
   "cell_type": "raw",
   "metadata": {},
   "source": [
    "sudo pip install --upgrade numpy"
   ]
  },
  {
   "cell_type": "markdown",
   "metadata": {},
   "source": [
    "# Additional Packages\n",
    "\n",
    "For some code highlighting in the first notebook you might need pygments if you execute the corresponding cell."
   ]
  },
  {
   "cell_type": "raw",
   "metadata": {},
   "source": [
    "sudo pip install --upgrade pygments"
   ]
  },
  {
   "cell_type": "markdown",
   "metadata": {},
   "source": [
    "In the last part we take a look at seaborn and bokeh. Both can be installed via pip: "
   ]
  },
  {
   "cell_type": "raw",
   "metadata": {},
   "source": [
    "sudo pip install --upgrade seaborn\n",
    "sudo pip install --upgrade bokeh"
   ]
  },
  {
   "cell_type": "markdown",
   "metadata": {},
   "source": [
    "### For Convenince\n",
    "All in one:"
   ]
  },
  {
   "cell_type": "raw",
   "metadata": {},
   "source": [
    "sudo pip install --upgrade matplotlib numpy pygments seaborn bokeh"
   ]
  }
 ],
 "metadata": {
  "kernelspec": {
   "display_name": "Python 2",
   "language": "python",
   "name": "python2"
  },
  "language_info": {
   "codemirror_mode": {
    "name": "ipython",
    "version": 2
   },
   "file_extension": ".py",
   "mimetype": "text/x-python",
   "name": "python",
   "nbconvert_exporter": "python",
   "pygments_lexer": "ipython2",
   "version": "2.7.12"
  }
 },
 "nbformat": 4,
 "nbformat_minor": 0
}
