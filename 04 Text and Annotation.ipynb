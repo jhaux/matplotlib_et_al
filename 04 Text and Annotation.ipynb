{
 "cells": [
  {
   "cell_type": "code",
   "execution_count": null,
   "metadata": {
    "collapsed": true
   },
   "outputs": [],
   "source": [
    "import matplotlib.pyplot as plt\n",
    "import numpy as np\n",
    "%matplotlib inline"
   ]
  },
  {
   "cell_type": "markdown",
   "metadata": {},
   "source": [
    "#### Data"
   ]
  },
  {
   "cell_type": "code",
   "execution_count": null,
   "metadata": {
    "collapsed": true
   },
   "outputs": [],
   "source": [
    "df = 10\n",
    "X = np.linspace(0, 50, num=500)\n",
    "Y = np.exp(-X/df) * np.sin(X)\n",
    "Z = np.exp(-X/df) * np.cos(X)"
   ]
  },
  {
   "cell_type": "markdown",
   "metadata": {},
   "source": [
    "# Placing Text\n",
    "\n",
    "For more information start looking [here](https://matplotlib.org/users/text_intro.html)."
   ]
  },
  {
   "cell_type": "code",
   "execution_count": null,
   "metadata": {
    "collapsed": false
   },
   "outputs": [],
   "source": [
    "fig, ax = plt.subplots(1,1)\n",
    "ax.plot(X, Y)\n",
    "ax.text(0.9, 0.9, 'Well, hello there!', \n",
    "        verticalalignment='top', horizontalalignment='right',\n",
    "        transform=ax.transAxes, fontsize=15)"
   ]
  },
  {
   "cell_type": "markdown",
   "metadata": {},
   "source": [
    "# $\\large{\\LaTeX!!}$\n",
    "\n",
    "Is totally possible and can be configured very deeply.\n",
    "\n",
    "To not have to esquape all backslashes use raw strings via `r'somestring'`. Not using raw strings can sometimes work but when using escapeable characters like `\\t`, `\\n`, etc, will lead to strange texts in your plot."
   ]
  },
  {
   "cell_type": "code",
   "execution_count": null,
   "metadata": {
    "collapsed": false
   },
   "outputs": [],
   "source": [
    "equation = r'$f(x) = e^{-\\frac{x}{\\lambda}} \\cdot \\sin{x}$' \\\n",
    "         + '\\n' \\\n",
    "         + r'$\\lambda = {}$'.format(df)\n",
    "        \n",
    "fig, ax = plt.subplots(1,1)\n",
    "ax.plot(X, Y)\n",
    "ax.text(0.9, 0.9, equation, \n",
    "        verticalalignment='top', horizontalalignment='right',\n",
    "        transform=ax.transAxes)"
   ]
  },
  {
   "cell_type": "markdown",
   "metadata": {},
   "source": [
    "# Equations with a custom latex preamble"
   ]
  },
  {
   "cell_type": "code",
   "execution_count": null,
   "metadata": {
    "collapsed": false
   },
   "outputs": [],
   "source": [
    "import matplotlib as mpl\n",
    "\n",
    "latex_custom_preamble = {\n",
    "    \"font.family\": \"serif\",       # use serif/main font for text elements\n",
    "    \"text.usetex\": True,          # use inline math for ticks\n",
    "    \"text.latex.preamble\": [\n",
    "        r\"\\usepackage{amsmath}\",  # for the align environment\n",
    "        ]\n",
    "}\n",
    "\n",
    "mpl.rcParams.update(latex_custom_preamble)"
   ]
  },
  {
   "cell_type": "code",
   "execution_count": null,
   "metadata": {
    "collapsed": false,
    "scrolled": true
   },
   "outputs": [],
   "source": [
    "equation = r'\\begin{align*}'\n",
    "equation += r'f(x) &= e^{-\\frac{x}{\\lambda}} \\cdot \\sin{x} \\\\ '\n",
    "equation += r'\\lambda &= {} \\text{{cm}} '.format(df)\n",
    "equation += r'\\end{align*}'\n",
    "\n",
    "fig, ax = plt.subplots(1,1)\n",
    "ax.plot(X, Y)\n",
    "ax.text(0.9, 0.9, equation, \n",
    "        verticalalignment='top', horizontalalignment='right',\n",
    "        transform=ax.transAxes,\n",
    "        fontsize=15)\n",
    "ax.set_xlabel('$x$ [cm]')\n",
    "ax.set_ylabel('$f(x)$')\n",
    "ax.set_title('\\LaTeX')"
   ]
  },
  {
   "cell_type": "markdown",
   "metadata": {},
   "source": [
    "# Annotations"
   ]
  },
  {
   "cell_type": "markdown",
   "metadata": {},
   "source": [
    "There is a lot of information here:\n",
    "https://matplotlib.org/users/annotations.html"
   ]
  },
  {
   "cell_type": "code",
   "execution_count": null,
   "metadata": {
    "collapsed": false
   },
   "outputs": [],
   "source": [
    "equation = r'\\begin{align*}'\n",
    "equation += r'f(x) &= e^{-\\frac{x}{\\lambda}} \\cdot \\sin{x} \\\\ '\n",
    "equation += r'\\lambda &= {} \\text{{cm}} '.format(df)\n",
    "equation += r'\\end{align*}'\n",
    "\n",
    "datum = (X[300], Y[300])\n",
    "\n",
    "fig, ax = plt.subplots(1,1)\n",
    "ax.plot(X, Y)\n",
    "ax.text(0.9, 0.9, equation, \n",
    "        verticalalignment='top', horizontalalignment='right',\n",
    "        transform=ax.transAxes,\n",
    "        fontsize=15)\n",
    "\n",
    "ax.scatter(datum[0], datum[1], edgecolor='red')\n",
    "ax.annotate('special point',\n",
    "            xy=datum,\n",
    "            xytext=(0.8, 0.1),\n",
    "            textcoords=ax.transAxes,\n",
    "            arrowprops=dict(arrowstyle='->',\n",
    "                            connectionstyle='arc3,rad=-0.3',\n",
    "                            facecolor='black',\n",
    "                            shrinkB=10))\n",
    "ax.set_xlabel('$x$ [cm]')\n",
    "ax.set_ylabel('$f(x)$')\n",
    "ax.set_title('\\LaTeX')"
   ]
  },
  {
   "cell_type": "markdown",
   "metadata": {},
   "source": [
    "# Ticks and labels\n",
    "\n",
    "More examples [here](https://matplotlib.org/examples/ticks_and_spines/tick-locators.html).\n",
    "\n",
    "While usually ticks and labels are placed well automatically, sometimes it is handy to control what is happening."
   ]
  },
  {
   "cell_type": "markdown",
   "metadata": {},
   "source": [
    "### Placing and Formatting Ticks"
   ]
  },
  {
   "cell_type": "code",
   "execution_count": null,
   "metadata": {
    "collapsed": true
   },
   "outputs": [],
   "source": [
    "import matplotlib.ticker as ticker"
   ]
  },
  {
   "cell_type": "code",
   "execution_count": null,
   "metadata": {
    "collapsed": false,
    "scrolled": false
   },
   "outputs": [],
   "source": [
    "xlim = -2, 2\n",
    "locators = [[ticker.LinearLocator(5), ticker.LinearLocator(21)],\n",
    "            [ticker.MultipleLocator(0.75), ticker.MultipleLocator(0.25)],\n",
    "            [ticker.AutoLocator(), ticker.AutoMinorLocator()]]\n",
    "\n",
    "def dollar(val, pos):\n",
    "    return u'{} \\$'.format(val)\n",
    "\n",
    "formatters = [[ticker.NullFormatter(), ticker.NullFormatter()],\n",
    "            [ticker.FuncFormatter(dollar), ticker.NullFormatter()]]\n",
    "\n",
    "fig, AX = plt.subplots(len(locators), len(formatters), figsize=(10, 1.2))\n",
    "\n",
    "for axes, (maj_l, min_l) in zip(AX, locators):\n",
    "    for ax, (maj_f, min_f) in zip(axes, formatters):\n",
    "        ax.xaxis.set_major_locator(maj_l)\n",
    "        ax.xaxis.set_major_formatter(maj_f)\n",
    "        ax.xaxis.set_minor_locator(min_l)\n",
    "        ax.xaxis.set_minor_formatter(min_f)\n",
    "        ax.set_xlim(xlim)\n",
    "        ax.set_ylim(0,1)\n",
    "        ax.spines['top'].set_color('none')\n",
    "        ax.spines['right'].set_color('none')\n",
    "        ax.spines['left'].set_color('none')\n",
    "        ax.set_yticks([])\n",
    "        ax.patch.set_visible(False)\n",
    "        \n",
    "        # And now mess everything up :)\n",
    "        ax.tick_params(which='major', direction='out', pad=5)\n",
    "        ax.tick_params(which='minor', direction='inout')\n",
    "        plt.setp(ax.get_xticklabels(), rotation=10, fontsize=12, horizontalalignment='right')\n",
    "\n",
    "fig.tight_layout()"
   ]
  },
  {
   "cell_type": "markdown",
   "metadata": {},
   "source": [
    "## Labels"
   ]
  },
  {
   "cell_type": "code",
   "execution_count": null,
   "metadata": {
    "collapsed": false
   },
   "outputs": [],
   "source": [
    "X = np.arange(10)\n",
    "Y = np.random.uniform(size=[10])"
   ]
  },
  {
   "cell_type": "code",
   "execution_count": null,
   "metadata": {
    "collapsed": false
   },
   "outputs": [],
   "source": [
    "fig, ((ax1, ax2), (ax3, ax4)) = plt.subplots(2,2)\n",
    "ax1.plot(X, Y)\n",
    "ax2.plot(1000*X, 1000*Y)\n",
    "ax3.plot(X, 1000*Y)\n",
    "ax4.plot(1000*X, Y)\n",
    "\n",
    "ax1.set_ylabel('label')\n",
    "ax3.set_ylabel('label')\n",
    "ax3.set_xlabel('label')\n",
    "ax4.set_xlabel('label')\n",
    "\n",
    "pos_x = -0.2\n",
    "pos_y = -0.2\n",
    "ax1.yaxis.set_label_coords(pos_x, 0.5)\n",
    "ax3.yaxis.set_label_coords(pos_x, 0.5)\n",
    "ax3.xaxis.set_label_coords(0.5, pos_y)\n",
    "ax4.xaxis.set_label_coords(0.5, pos_y)"
   ]
  }
 ],
 "metadata": {
  "kernelspec": {
   "display_name": "Python 2",
   "language": "python",
   "name": "python2"
  },
  "language_info": {
   "codemirror_mode": {
    "name": "ipython",
    "version": 2
   },
   "file_extension": ".py",
   "mimetype": "text/x-python",
   "name": "python",
   "nbconvert_exporter": "python",
   "pygments_lexer": "ipython2",
   "version": "2.7.12"
  }
 },
 "nbformat": 4,
 "nbformat_minor": 0
}
